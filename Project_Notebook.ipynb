{
 "cells": [
  {
   "cell_type": "code",
   "execution_count": null,
   "metadata": {
    "colab": {
     "base_uri": "https://localhost:8080/"
    },
    "id": "xD1WHPAokT3S",
    "outputId": "3ca015af-dfdb-421e-97a6-74a3c98bcee4"
   },
   "outputs": [
    {
     "name": "stdout",
     "output_type": "stream",
     "text": [
      "[sudo] password for harry: "
     ]
    }
   ],
   "source": [
    "!sudo apt install libspatialindex-dev"
   ]
  },
  {
   "cell_type": "code",
   "execution_count": null,
   "metadata": {
    "colab": {
     "base_uri": "https://localhost:8080/"
    },
    "id": "V6RQITBIvPRf",
    "outputId": "706dda40-c6b1-4d92-87b2-0cb3dcc76d64"
   },
   "outputs": [],
   "source": [
    "!wget https://github.com/Inder-Dhillon/Toronto-Accidents-As-A-Network/blob/main/accident.py?raw=true\n",
    "!mv accident.py\\?raw\\=true accident.py"
   ]
  },
  {
   "cell_type": "code",
   "execution_count": null,
   "metadata": {
    "colab": {
     "base_uri": "https://localhost:8080/",
     "height": 1000
    },
    "id": "AYnlg1yhfOYb",
    "outputId": "4945c08f-5508-4d85-f24a-cf229074244d"
   },
   "outputs": [],
   "source": [
    "pip install osmnx"
   ]
  },
  {
   "cell_type": "code",
   "execution_count": null,
   "metadata": {
    "id": "8smi2CiKk21V"
   },
   "outputs": [],
   "source": [
    "import osmnx as ox\n",
    "import networkx as nx\n",
    "import pandas as pd\n",
    "import json\n",
    "import geopandas as gpd\n",
    "import numpy as np\n",
    "import matplotlib.pyplot as plt\n",
    "from accident import ACCIDENT"
   ]
  },
  {
   "cell_type": "code",
   "execution_count": null,
   "metadata": {
    "id": "o9LA_jCKmXCu"
   },
   "outputs": [],
   "source": [
    "G = ox.graph_from_place('Toronto, Ontario, Canada', network_type='drive')"
   ]
  },
  {
   "cell_type": "code",
   "execution_count": null,
   "metadata": {
    "id": "JpUFoqT5bPqZ"
   },
   "outputs": [],
   "source": [
    "#G = ox.consolidate_intersections(ox.project_graph(G), tolerance=30, rebuild_graph=True)"
   ]
  },
  {
   "cell_type": "code",
   "execution_count": null,
   "metadata": {
    "colab": {
     "base_uri": "https://localhost:8080/",
     "height": 425
    },
    "id": "CjD-XB5RmdD8",
    "outputId": "e9dd3ada-263e-4786-ef56-dec65726e868"
   },
   "outputs": [],
   "source": [
    "ox.plot_graph(G, bgcolor='white', node_size=0.3, node_color=\"red\", edge_linewidth=0.4, edge_alpha=1, dpi=300, figsize=(10,10))"
   ]
  },
  {
   "cell_type": "code",
   "execution_count": 8,
   "metadata": {
    "colab": {
     "base_uri": "https://localhost:8080/"
    },
    "id": "YWepLdknxtdy",
    "outputId": "db6e04e8-b70f-446f-d939-e94037fe0ab2"
   },
   "outputs": [
    {
     "name": "stdout",
     "output_type": "stream",
     "text": [
      "Name: \n",
      "Type: MultiDiGraph\n",
      "Number of nodes: 27440\n",
      "Number of edges: 73176\n",
      "Average in degree:   2.6668\n",
      "Average out degree:   2.6668\n"
     ]
    }
   ],
   "source": [
    "print(nx.info(G))"
   ]
  },
  {
   "cell_type": "code",
   "execution_count": 9,
   "metadata": {
    "colab": {
     "base_uri": "https://localhost:8080/"
    },
    "id": "-3_QbPdZER1F",
    "outputId": "92138702-e0c3-48a0-f81f-9bf98af73275"
   },
   "outputs": [
    {
     "data": {
      "text/plain": [
       "(3463503,\n",
       " 3463505,\n",
       " {'geometry': <shapely.geometry.linestring.LineString at 0x7f5c31d326d8>,\n",
       "  'highway': 'secondary',\n",
       "  'lanes': '4',\n",
       "  'length': 119.022,\n",
       "  'maxspeed': '50',\n",
       "  'name': 'Lawrence Avenue East',\n",
       "  'oneway': False,\n",
       "  'osmid': 163720386})"
      ]
     },
     "execution_count": 9,
     "metadata": {
      "tags": []
     },
     "output_type": "execute_result"
    }
   ],
   "source": [
    "edges =  list(G.edges.data())\n",
    "edges[160]"
   ]
  },
  {
   "cell_type": "code",
   "execution_count": 10,
   "metadata": {
    "colab": {
     "base_uri": "https://localhost:8080/"
    },
    "id": "emWQswCNFNyY",
    "outputId": "15228edb-50b9-4ed9-b226-93ff5061ca1f"
   },
   "outputs": [
    {
     "data": {
      "text/plain": [
       "(1497798, {'osmid': 1497798, 'x': -79.3355379, 'y': 43.7580721})"
      ]
     },
     "execution_count": 10,
     "metadata": {
      "tags": []
     },
     "output_type": "execute_result"
    }
   ],
   "source": [
    "nodes =  list(G.nodes.data())\n",
    "nodes[1]"
   ]
  },
  {
   "cell_type": "code",
   "execution_count": 11,
   "metadata": {
    "colab": {
     "base_uri": "https://localhost:8080/"
    },
    "id": "r5RXydab4PfI",
    "outputId": "5ca074ad-528f-43a3-a8dd-b0ebbbb7b019"
   },
   "outputs": [
    {
     "data": {
      "text/plain": [
       "762"
      ]
     },
     "execution_count": 11,
     "metadata": {
      "tags": []
     },
     "output_type": "execute_result"
    }
   ],
   "source": [
    "nx.number_of_selfloops(G)"
   ]
  },
  {
   "cell_type": "markdown",
   "metadata": {
    "id": "0P3zy3yCwCrd"
   },
   "source": [
    "## KSI Dataset:"
   ]
  },
  {
   "cell_type": "code",
   "execution_count": 12,
   "metadata": {
    "id": "a-zNsJPtbLZ6"
   },
   "outputs": [],
   "source": [
    "ksi_df = gpd.read_file(\"https://opendata.arcgis.com/datasets/cc17cc27ee5a4989b78d9a3810c6c007_0.geojson\")"
   ]
  },
  {
   "cell_type": "code",
   "execution_count": 13,
   "metadata": {
    "colab": {
     "base_uri": "https://localhost:8080/",
     "height": 394
    },
    "id": "enOLQkSgm8TQ",
    "outputId": "92bf50f3-be08-4e78-d2da-3e523818da5c"
   },
   "outputs": [
    {
     "data": {
      "text/html": [
       "<div>\n",
       "<style scoped>\n",
       "    .dataframe tbody tr th:only-of-type {\n",
       "        vertical-align: middle;\n",
       "    }\n",
       "\n",
       "    .dataframe tbody tr th {\n",
       "        vertical-align: top;\n",
       "    }\n",
       "\n",
       "    .dataframe thead th {\n",
       "        text-align: right;\n",
       "    }\n",
       "</style>\n",
       "<table border=\"1\" class=\"dataframe\">\n",
       "  <thead>\n",
       "    <tr style=\"text-align: right;\">\n",
       "      <th></th>\n",
       "      <th>Index_</th>\n",
       "      <th>ACCNUM</th>\n",
       "      <th>YEAR</th>\n",
       "      <th>DATE</th>\n",
       "      <th>TIME</th>\n",
       "      <th>HOUR</th>\n",
       "      <th>STREET1</th>\n",
       "      <th>STREET2</th>\n",
       "      <th>OFFSET</th>\n",
       "      <th>ROAD_CLASS</th>\n",
       "      <th>District</th>\n",
       "      <th>WardNum</th>\n",
       "      <th>Division</th>\n",
       "      <th>LATITUDE</th>\n",
       "      <th>LONGITUDE</th>\n",
       "      <th>LOCCOORD</th>\n",
       "      <th>ACCLOC</th>\n",
       "      <th>TRAFFCTL</th>\n",
       "      <th>VISIBILITY</th>\n",
       "      <th>LIGHT</th>\n",
       "      <th>RDSFCOND</th>\n",
       "      <th>ACCLASS</th>\n",
       "      <th>IMPACTYPE</th>\n",
       "      <th>INVTYPE</th>\n",
       "      <th>INVAGE</th>\n",
       "      <th>INJURY</th>\n",
       "      <th>FATAL_NO</th>\n",
       "      <th>INITDIR</th>\n",
       "      <th>VEHTYPE</th>\n",
       "      <th>MANOEUVER</th>\n",
       "      <th>DRIVACT</th>\n",
       "      <th>DRIVCOND</th>\n",
       "      <th>PEDTYPE</th>\n",
       "      <th>PEDACT</th>\n",
       "      <th>PEDCOND</th>\n",
       "      <th>CYCLISTYPE</th>\n",
       "      <th>CYCACT</th>\n",
       "      <th>CYCCOND</th>\n",
       "      <th>PEDESTRIAN</th>\n",
       "      <th>CYCLIST</th>\n",
       "      <th>AUTOMOBILE</th>\n",
       "      <th>MOTORCYCLE</th>\n",
       "      <th>TRUCK</th>\n",
       "      <th>TRSN_CITY_VEH</th>\n",
       "      <th>EMERG_VEH</th>\n",
       "      <th>PASSENGER</th>\n",
       "      <th>SPEEDING</th>\n",
       "      <th>AG_DRIV</th>\n",
       "      <th>REDLIGHT</th>\n",
       "      <th>ALCOHOL</th>\n",
       "      <th>DISABILITY</th>\n",
       "      <th>Hood_ID</th>\n",
       "      <th>Neighbourhood</th>\n",
       "      <th>ObjectId</th>\n",
       "      <th>geometry</th>\n",
       "    </tr>\n",
       "  </thead>\n",
       "  <tbody>\n",
       "    <tr>\n",
       "      <th>0</th>\n",
       "      <td>3389067</td>\n",
       "      <td>893184</td>\n",
       "      <td>2006</td>\n",
       "      <td>2006-01-01T05:00:00+00:00</td>\n",
       "      <td>236</td>\n",
       "      <td>2</td>\n",
       "      <td>WOODBINE AVE</td>\n",
       "      <td>O CONNOR DR</td>\n",
       "      <td>None</td>\n",
       "      <td>Major Arterial</td>\n",
       "      <td>Toronto and East York</td>\n",
       "      <td>19.0</td>\n",
       "      <td>54</td>\n",
       "      <td>43.699595</td>\n",
       "      <td>-79.318797</td>\n",
       "      <td>Intersection</td>\n",
       "      <td>Intersection Related</td>\n",
       "      <td>No Control</td>\n",
       "      <td>Clear</td>\n",
       "      <td>Dark</td>\n",
       "      <td>Wet</td>\n",
       "      <td>Non-Fatal Injury</td>\n",
       "      <td>Approaching</td>\n",
       "      <td>Passenger</td>\n",
       "      <td>50 to 54</td>\n",
       "      <td>Major</td>\n",
       "      <td>None</td>\n",
       "      <td>None</td>\n",
       "      <td>None</td>\n",
       "      <td>None</td>\n",
       "      <td>None</td>\n",
       "      <td>None</td>\n",
       "      <td>None</td>\n",
       "      <td>None</td>\n",
       "      <td>None</td>\n",
       "      <td>None</td>\n",
       "      <td>None</td>\n",
       "      <td>None</td>\n",
       "      <td>None</td>\n",
       "      <td>None</td>\n",
       "      <td>Yes</td>\n",
       "      <td>None</td>\n",
       "      <td>None</td>\n",
       "      <td>None</td>\n",
       "      <td>None</td>\n",
       "      <td>Yes</td>\n",
       "      <td>Yes</td>\n",
       "      <td>Yes</td>\n",
       "      <td>None</td>\n",
       "      <td>Yes</td>\n",
       "      <td>None</td>\n",
       "      <td>60</td>\n",
       "      <td>Woodbine-Lumsden (60)</td>\n",
       "      <td>1</td>\n",
       "      <td>POINT (-79.31880 43.69960)</td>\n",
       "    </tr>\n",
       "    <tr>\n",
       "      <th>1</th>\n",
       "      <td>3389068</td>\n",
       "      <td>893184</td>\n",
       "      <td>2006</td>\n",
       "      <td>2006-01-01T05:00:00+00:00</td>\n",
       "      <td>236</td>\n",
       "      <td>2</td>\n",
       "      <td>WOODBINE AVE</td>\n",
       "      <td>O CONNOR DR</td>\n",
       "      <td>None</td>\n",
       "      <td>Major Arterial</td>\n",
       "      <td>Toronto and East York</td>\n",
       "      <td>19.0</td>\n",
       "      <td>54</td>\n",
       "      <td>43.699595</td>\n",
       "      <td>-79.318797</td>\n",
       "      <td>Intersection</td>\n",
       "      <td>Intersection Related</td>\n",
       "      <td>No Control</td>\n",
       "      <td>Clear</td>\n",
       "      <td>Dark</td>\n",
       "      <td>Wet</td>\n",
       "      <td>Non-Fatal Injury</td>\n",
       "      <td>Approaching</td>\n",
       "      <td>Passenger</td>\n",
       "      <td>15 to 19</td>\n",
       "      <td>Minor</td>\n",
       "      <td>None</td>\n",
       "      <td>None</td>\n",
       "      <td>None</td>\n",
       "      <td>None</td>\n",
       "      <td>None</td>\n",
       "      <td>None</td>\n",
       "      <td>None</td>\n",
       "      <td>None</td>\n",
       "      <td>None</td>\n",
       "      <td>None</td>\n",
       "      <td>None</td>\n",
       "      <td>None</td>\n",
       "      <td>None</td>\n",
       "      <td>None</td>\n",
       "      <td>Yes</td>\n",
       "      <td>None</td>\n",
       "      <td>None</td>\n",
       "      <td>None</td>\n",
       "      <td>None</td>\n",
       "      <td>Yes</td>\n",
       "      <td>Yes</td>\n",
       "      <td>Yes</td>\n",
       "      <td>None</td>\n",
       "      <td>Yes</td>\n",
       "      <td>None</td>\n",
       "      <td>60</td>\n",
       "      <td>Woodbine-Lumsden (60)</td>\n",
       "      <td>2</td>\n",
       "      <td>POINT (-79.31880 43.69960)</td>\n",
       "    </tr>\n",
       "    <tr>\n",
       "      <th>2</th>\n",
       "      <td>3389069</td>\n",
       "      <td>893184</td>\n",
       "      <td>2006</td>\n",
       "      <td>2006-01-01T05:00:00+00:00</td>\n",
       "      <td>236</td>\n",
       "      <td>2</td>\n",
       "      <td>WOODBINE AVE</td>\n",
       "      <td>O CONNOR DR</td>\n",
       "      <td>None</td>\n",
       "      <td>Major Arterial</td>\n",
       "      <td>Toronto and East York</td>\n",
       "      <td>19.0</td>\n",
       "      <td>54</td>\n",
       "      <td>43.699595</td>\n",
       "      <td>-79.318797</td>\n",
       "      <td>Intersection</td>\n",
       "      <td>Intersection Related</td>\n",
       "      <td>No Control</td>\n",
       "      <td>Clear</td>\n",
       "      <td>Dark</td>\n",
       "      <td>Wet</td>\n",
       "      <td>Non-Fatal Injury</td>\n",
       "      <td>Approaching</td>\n",
       "      <td>Driver</td>\n",
       "      <td>55 to 59</td>\n",
       "      <td>Minor</td>\n",
       "      <td>None</td>\n",
       "      <td>North</td>\n",
       "      <td>Automobile, Station Wagon</td>\n",
       "      <td>Going Ahead</td>\n",
       "      <td>Driving Properly</td>\n",
       "      <td>Normal</td>\n",
       "      <td>None</td>\n",
       "      <td>None</td>\n",
       "      <td>None</td>\n",
       "      <td>None</td>\n",
       "      <td>None</td>\n",
       "      <td>None</td>\n",
       "      <td>None</td>\n",
       "      <td>None</td>\n",
       "      <td>Yes</td>\n",
       "      <td>None</td>\n",
       "      <td>None</td>\n",
       "      <td>None</td>\n",
       "      <td>None</td>\n",
       "      <td>Yes</td>\n",
       "      <td>Yes</td>\n",
       "      <td>Yes</td>\n",
       "      <td>None</td>\n",
       "      <td>Yes</td>\n",
       "      <td>None</td>\n",
       "      <td>60</td>\n",
       "      <td>Woodbine-Lumsden (60)</td>\n",
       "      <td>3</td>\n",
       "      <td>POINT (-79.31880 43.69960)</td>\n",
       "    </tr>\n",
       "    <tr>\n",
       "      <th>3</th>\n",
       "      <td>3389070</td>\n",
       "      <td>893184</td>\n",
       "      <td>2006</td>\n",
       "      <td>2006-01-01T05:00:00+00:00</td>\n",
       "      <td>236</td>\n",
       "      <td>2</td>\n",
       "      <td>WOODBINE AVE</td>\n",
       "      <td>O CONNOR DR</td>\n",
       "      <td>None</td>\n",
       "      <td>Major Arterial</td>\n",
       "      <td>Toronto and East York</td>\n",
       "      <td>19.0</td>\n",
       "      <td>54</td>\n",
       "      <td>43.699595</td>\n",
       "      <td>-79.318797</td>\n",
       "      <td>Intersection</td>\n",
       "      <td>Intersection Related</td>\n",
       "      <td>No Control</td>\n",
       "      <td>Clear</td>\n",
       "      <td>Dark</td>\n",
       "      <td>Wet</td>\n",
       "      <td>Non-Fatal Injury</td>\n",
       "      <td>Approaching</td>\n",
       "      <td>Passenger</td>\n",
       "      <td>20 to 24</td>\n",
       "      <td>Minor</td>\n",
       "      <td>None</td>\n",
       "      <td>None</td>\n",
       "      <td>None</td>\n",
       "      <td>None</td>\n",
       "      <td>None</td>\n",
       "      <td>None</td>\n",
       "      <td>None</td>\n",
       "      <td>None</td>\n",
       "      <td>None</td>\n",
       "      <td>None</td>\n",
       "      <td>None</td>\n",
       "      <td>None</td>\n",
       "      <td>None</td>\n",
       "      <td>None</td>\n",
       "      <td>Yes</td>\n",
       "      <td>None</td>\n",
       "      <td>None</td>\n",
       "      <td>None</td>\n",
       "      <td>None</td>\n",
       "      <td>Yes</td>\n",
       "      <td>Yes</td>\n",
       "      <td>Yes</td>\n",
       "      <td>None</td>\n",
       "      <td>Yes</td>\n",
       "      <td>None</td>\n",
       "      <td>60</td>\n",
       "      <td>Woodbine-Lumsden (60)</td>\n",
       "      <td>4</td>\n",
       "      <td>POINT (-79.31880 43.69960)</td>\n",
       "    </tr>\n",
       "    <tr>\n",
       "      <th>4</th>\n",
       "      <td>3389071</td>\n",
       "      <td>893184</td>\n",
       "      <td>2006</td>\n",
       "      <td>2006-01-01T05:00:00+00:00</td>\n",
       "      <td>236</td>\n",
       "      <td>2</td>\n",
       "      <td>WOODBINE AVE</td>\n",
       "      <td>O CONNOR DR</td>\n",
       "      <td>None</td>\n",
       "      <td>Major Arterial</td>\n",
       "      <td>Toronto and East York</td>\n",
       "      <td>19.0</td>\n",
       "      <td>54</td>\n",
       "      <td>43.699595</td>\n",
       "      <td>-79.318797</td>\n",
       "      <td>Intersection</td>\n",
       "      <td>Intersection Related</td>\n",
       "      <td>No Control</td>\n",
       "      <td>Clear</td>\n",
       "      <td>Dark</td>\n",
       "      <td>Wet</td>\n",
       "      <td>Non-Fatal Injury</td>\n",
       "      <td>Approaching</td>\n",
       "      <td>Passenger</td>\n",
       "      <td>15 to 19</td>\n",
       "      <td>Minor</td>\n",
       "      <td>None</td>\n",
       "      <td>None</td>\n",
       "      <td>None</td>\n",
       "      <td>None</td>\n",
       "      <td>None</td>\n",
       "      <td>None</td>\n",
       "      <td>None</td>\n",
       "      <td>None</td>\n",
       "      <td>None</td>\n",
       "      <td>None</td>\n",
       "      <td>None</td>\n",
       "      <td>None</td>\n",
       "      <td>None</td>\n",
       "      <td>None</td>\n",
       "      <td>Yes</td>\n",
       "      <td>None</td>\n",
       "      <td>None</td>\n",
       "      <td>None</td>\n",
       "      <td>None</td>\n",
       "      <td>Yes</td>\n",
       "      <td>Yes</td>\n",
       "      <td>Yes</td>\n",
       "      <td>None</td>\n",
       "      <td>Yes</td>\n",
       "      <td>None</td>\n",
       "      <td>60</td>\n",
       "      <td>Woodbine-Lumsden (60)</td>\n",
       "      <td>5</td>\n",
       "      <td>POINT (-79.31880 43.69960)</td>\n",
       "    </tr>\n",
       "  </tbody>\n",
       "</table>\n",
       "</div>"
      ],
      "text/plain": [
       "    Index_  ACCNUM  ...  ObjectId                    geometry\n",
       "0  3389067  893184  ...         1  POINT (-79.31880 43.69960)\n",
       "1  3389068  893184  ...         2  POINT (-79.31880 43.69960)\n",
       "2  3389069  893184  ...         3  POINT (-79.31880 43.69960)\n",
       "3  3389070  893184  ...         4  POINT (-79.31880 43.69960)\n",
       "4  3389071  893184  ...         5  POINT (-79.31880 43.69960)\n",
       "\n",
       "[5 rows x 55 columns]"
      ]
     },
     "execution_count": 13,
     "metadata": {
      "tags": []
     },
     "output_type": "execute_result"
    }
   ],
   "source": [
    "ksi_df.head()"
   ]
  },
  {
   "cell_type": "code",
   "execution_count": 14,
   "metadata": {
    "id": "Gczd8d5npGNq"
   },
   "outputs": [],
   "source": [
    "def assign_injury_index(injury:str):\n",
    "  if injury == \"Minimal\":\n",
    "    return 0.4\n",
    "  elif injury == \"Minor\":\n",
    "    return 0.6\n",
    "  elif injury == \"Major\":\n",
    "    return 0.8\n",
    "  elif injury == \"Fatal\":\n",
    "    return 1.0\n",
    "  else:\n",
    "    return 0.2"
   ]
  },
  {
   "cell_type": "code",
   "execution_count": 15,
   "metadata": {
    "id": "EGEApRuDpo6U"
   },
   "outputs": [],
   "source": [
    "ksi_df[\"INJ_INDEX\"] = ksi_df[\"INJURY\"].apply(lambda x: assign_injury_index(x))"
   ]
  },
  {
   "cell_type": "code",
   "execution_count": 16,
   "metadata": {
    "id": "9BtTJ_MBrsW4"
   },
   "outputs": [],
   "source": [
    "index_df = ksi_df[[\"ACCNUM\", \"INJ_INDEX\"]].groupby(by=\"ACCNUM\").sum()"
   ]
  },
  {
   "cell_type": "markdown",
   "metadata": {
    "id": "OwCzEL2uFKMN"
   },
   "source": [
    "Combining Date and Hour to have one single column:"
   ]
  },
  {
   "cell_type": "code",
   "execution_count": 17,
   "metadata": {
    "id": "9A-kthgDpe8J"
   },
   "outputs": [],
   "source": [
    "ksi_df[\"DATE\"] = pd.to_datetime(ksi_df['DATE']).dt.floor(\"D\") + pd.to_timedelta(ksi_df[\"HOUR\"], unit=\"hour\")"
   ]
  },
  {
   "cell_type": "markdown",
   "metadata": {
    "id": "5p9VQ-IDFG9V"
   },
   "source": [
    "Add datapoints to keep here:"
   ]
  },
  {
   "cell_type": "code",
   "execution_count": 18,
   "metadata": {
    "id": "CMklmqGwCQae"
   },
   "outputs": [],
   "source": [
    "cols_to_keep = [\"LATITUDE\", \"LONGITUDE\", \"ACCNUM\", \"DATE\", \"VISIBILITY\", \"LIGHT\",\t\"RDSFCOND\"]\n",
    "ksi_df = ksi_df[cols_to_keep]"
   ]
  },
  {
   "cell_type": "markdown",
   "metadata": {
    "id": "ao8F1hV7FSlT"
   },
   "source": [
    "Counting fatalities using duplicate rows:"
   ]
  },
  {
   "cell_type": "code",
   "execution_count": 19,
   "metadata": {
    "id": "_1UWcVfNAXIy"
   },
   "outputs": [],
   "source": [
    "fatalities = ksi_df[\"ACCNUM\"].value_counts()\n",
    "ksi_df[\"FATALITIES\"] = ksi_df[\"ACCNUM\"].apply(lambda x : fatalities[x])"
   ]
  },
  {
   "cell_type": "code",
   "execution_count": 20,
   "metadata": {
    "id": "N8aDYqZGBmno"
   },
   "outputs": [],
   "source": [
    "ksi_df = ksi_df.drop_duplicates()\n",
    "ksi_df.reset_index(drop=True, inplace=True)"
   ]
  },
  {
   "cell_type": "code",
   "execution_count": 21,
   "metadata": {
    "id": "HsyKXWFIvUT0"
   },
   "outputs": [],
   "source": [
    "ksi_df[\"G_NODE\"]= ox.get_nearest_nodes(G, ksi_df[\"LONGITUDE\"], ksi_df[\"LATITUDE\"], method=\"balltree\")\n",
    "ksi_df.drop([\"LATITUDE\", \"LONGITUDE\"], axis=1, inplace=True)"
   ]
  },
  {
   "cell_type": "code",
   "execution_count": 22,
   "metadata": {
    "id": "I2gC_yqCsLMX"
   },
   "outputs": [],
   "source": [
    "ksi_df = ksi_df.merge(index_df, on=\"ACCNUM\")"
   ]
  },
  {
   "cell_type": "code",
   "execution_count": 23,
   "metadata": {
    "colab": {
     "base_uri": "https://localhost:8080/",
     "height": 419
    },
    "id": "k1K4Xnd0CI7q",
    "outputId": "903bc6ea-9b60-4471-b530-d864f6c612a7"
   },
   "outputs": [
    {
     "data": {
      "text/html": [
       "<div>\n",
       "<style scoped>\n",
       "    .dataframe tbody tr th:only-of-type {\n",
       "        vertical-align: middle;\n",
       "    }\n",
       "\n",
       "    .dataframe tbody tr th {\n",
       "        vertical-align: top;\n",
       "    }\n",
       "\n",
       "    .dataframe thead th {\n",
       "        text-align: right;\n",
       "    }\n",
       "</style>\n",
       "<table border=\"1\" class=\"dataframe\">\n",
       "  <thead>\n",
       "    <tr style=\"text-align: right;\">\n",
       "      <th></th>\n",
       "      <th>ACCNUM</th>\n",
       "      <th>DATE</th>\n",
       "      <th>VISIBILITY</th>\n",
       "      <th>LIGHT</th>\n",
       "      <th>RDSFCOND</th>\n",
       "      <th>FATALITIES</th>\n",
       "      <th>G_NODE</th>\n",
       "      <th>INJ_INDEX</th>\n",
       "    </tr>\n",
       "  </thead>\n",
       "  <tbody>\n",
       "    <tr>\n",
       "      <th>0</th>\n",
       "      <td>893184</td>\n",
       "      <td>2006-01-01 02:00:00+00:00</td>\n",
       "      <td>Clear</td>\n",
       "      <td>Dark</td>\n",
       "      <td>Wet</td>\n",
       "      <td>8</td>\n",
       "      <td>33771082</td>\n",
       "      <td>4.2</td>\n",
       "    </tr>\n",
       "    <tr>\n",
       "      <th>1</th>\n",
       "      <td>909646</td>\n",
       "      <td>2006-01-01 03:00:00+00:00</td>\n",
       "      <td>Snow</td>\n",
       "      <td>Dark, artificial</td>\n",
       "      <td>Slush</td>\n",
       "      <td>5</td>\n",
       "      <td>158754118</td>\n",
       "      <td>2.4</td>\n",
       "    </tr>\n",
       "    <tr>\n",
       "      <th>2</th>\n",
       "      <td>884090</td>\n",
       "      <td>2006-01-02 07:00:00+00:00</td>\n",
       "      <td>Other</td>\n",
       "      <td>Dark, artificial</td>\n",
       "      <td>Wet</td>\n",
       "      <td>2</td>\n",
       "      <td>21631723</td>\n",
       "      <td>1.0</td>\n",
       "    </tr>\n",
       "    <tr>\n",
       "      <th>3</th>\n",
       "      <td>885782</td>\n",
       "      <td>2006-01-04 19:00:00+00:00</td>\n",
       "      <td>Rain</td>\n",
       "      <td>Dark</td>\n",
       "      <td>Wet</td>\n",
       "      <td>2</td>\n",
       "      <td>26007459</td>\n",
       "      <td>1.0</td>\n",
       "    </tr>\n",
       "    <tr>\n",
       "      <th>4</th>\n",
       "      <td>882079</td>\n",
       "      <td>2006-01-06 22:00:00+00:00</td>\n",
       "      <td>Clear</td>\n",
       "      <td>Dark, artificial</td>\n",
       "      <td>Dry</td>\n",
       "      <td>2</td>\n",
       "      <td>259750208</td>\n",
       "      <td>1.0</td>\n",
       "    </tr>\n",
       "    <tr>\n",
       "      <th>...</th>\n",
       "      <td>...</td>\n",
       "      <td>...</td>\n",
       "      <td>...</td>\n",
       "      <td>...</td>\n",
       "      <td>...</td>\n",
       "      <td>...</td>\n",
       "      <td>...</td>\n",
       "      <td>...</td>\n",
       "    </tr>\n",
       "    <tr>\n",
       "      <th>5685</th>\n",
       "      <td>9002468442</td>\n",
       "      <td>2019-12-23 06:00:00+00:00</td>\n",
       "      <td>Clear</td>\n",
       "      <td>Dawn</td>\n",
       "      <td>Wet</td>\n",
       "      <td>2</td>\n",
       "      <td>86186677</td>\n",
       "      <td>1.0</td>\n",
       "    </tr>\n",
       "    <tr>\n",
       "      <th>5686</th>\n",
       "      <td>9002471073</td>\n",
       "      <td>2019-12-23 14:00:00+00:00</td>\n",
       "      <td>Clear</td>\n",
       "      <td>Daylight</td>\n",
       "      <td>Dry</td>\n",
       "      <td>3</td>\n",
       "      <td>287946845</td>\n",
       "      <td>1.8</td>\n",
       "    </tr>\n",
       "    <tr>\n",
       "      <th>5687</th>\n",
       "      <td>9002481518</td>\n",
       "      <td>2019-12-25 08:00:00+00:00</td>\n",
       "      <td>Clear</td>\n",
       "      <td>Daylight</td>\n",
       "      <td>Wet</td>\n",
       "      <td>2</td>\n",
       "      <td>1498033</td>\n",
       "      <td>1.0</td>\n",
       "    </tr>\n",
       "    <tr>\n",
       "      <th>5688</th>\n",
       "      <td>9002496688</td>\n",
       "      <td>2019-12-27 23:00:00+00:00</td>\n",
       "      <td>Clear</td>\n",
       "      <td>Dark, artificial</td>\n",
       "      <td>Dry</td>\n",
       "      <td>2</td>\n",
       "      <td>392516842</td>\n",
       "      <td>1.0</td>\n",
       "    </tr>\n",
       "    <tr>\n",
       "      <th>5689</th>\n",
       "      <td>9002500260</td>\n",
       "      <td>2019-12-28 15:00:00+00:00</td>\n",
       "      <td>Clear</td>\n",
       "      <td>Daylight</td>\n",
       "      <td>Dry</td>\n",
       "      <td>3</td>\n",
       "      <td>29603262</td>\n",
       "      <td>1.2</td>\n",
       "    </tr>\n",
       "  </tbody>\n",
       "</table>\n",
       "<p>5690 rows × 8 columns</p>\n",
       "</div>"
      ],
      "text/plain": [
       "          ACCNUM                      DATE  ...     G_NODE INJ_INDEX\n",
       "0         893184 2006-01-01 02:00:00+00:00  ...   33771082       4.2\n",
       "1         909646 2006-01-01 03:00:00+00:00  ...  158754118       2.4\n",
       "2         884090 2006-01-02 07:00:00+00:00  ...   21631723       1.0\n",
       "3         885782 2006-01-04 19:00:00+00:00  ...   26007459       1.0\n",
       "4         882079 2006-01-06 22:00:00+00:00  ...  259750208       1.0\n",
       "...          ...                       ...  ...        ...       ...\n",
       "5685  9002468442 2019-12-23 06:00:00+00:00  ...   86186677       1.0\n",
       "5686  9002471073 2019-12-23 14:00:00+00:00  ...  287946845       1.8\n",
       "5687  9002481518 2019-12-25 08:00:00+00:00  ...    1498033       1.0\n",
       "5688  9002496688 2019-12-27 23:00:00+00:00  ...  392516842       1.0\n",
       "5689  9002500260 2019-12-28 15:00:00+00:00  ...   29603262       1.2\n",
       "\n",
       "[5690 rows x 8 columns]"
      ]
     },
     "execution_count": 23,
     "metadata": {
      "tags": []
     },
     "output_type": "execute_result"
    }
   ],
   "source": [
    "ksi_df = ksi_df.infer_objects()\n",
    "ksi_df"
   ]
  },
  {
   "cell_type": "markdown",
   "metadata": {
    "id": "MP0Hasxjc8A_"
   },
   "source": [
    "Creating column of accident objects:"
   ]
  },
  {
   "cell_type": "code",
   "execution_count": 24,
   "metadata": {
    "id": "Kop4Cr22OxAU"
   },
   "outputs": [],
   "source": [
    "ksi_df[\"ACCIDENT\"] = ksi_df.apply(lambda x: ACCIDENT(x[\"ACCNUM\"], x[\"DATE\"], x[\"VISIBILITY\"], x[\"LIGHT\"], x[\"RDSFCOND\"], x[\"FATALITIES\"], x[\"INJ_INDEX\"]), axis=1)"
   ]
  },
  {
   "cell_type": "code",
   "execution_count": 25,
   "metadata": {
    "colab": {
     "base_uri": "https://localhost:8080/",
     "height": 419
    },
    "id": "1X8Dc1BFXz3v",
    "outputId": "26138eed-4771-4374-f403-3dacb2bb072e"
   },
   "outputs": [
    {
     "data": {
      "text/html": [
       "<div>\n",
       "<style scoped>\n",
       "    .dataframe tbody tr th:only-of-type {\n",
       "        vertical-align: middle;\n",
       "    }\n",
       "\n",
       "    .dataframe tbody tr th {\n",
       "        vertical-align: top;\n",
       "    }\n",
       "\n",
       "    .dataframe thead th {\n",
       "        text-align: right;\n",
       "    }\n",
       "</style>\n",
       "<table border=\"1\" class=\"dataframe\">\n",
       "  <thead>\n",
       "    <tr style=\"text-align: right;\">\n",
       "      <th></th>\n",
       "      <th>ACCNUM</th>\n",
       "      <th>DATE</th>\n",
       "      <th>VISIBILITY</th>\n",
       "      <th>LIGHT</th>\n",
       "      <th>RDSFCOND</th>\n",
       "      <th>FATALITIES</th>\n",
       "      <th>G_NODE</th>\n",
       "      <th>INJ_INDEX</th>\n",
       "      <th>ACCIDENT</th>\n",
       "    </tr>\n",
       "  </thead>\n",
       "  <tbody>\n",
       "    <tr>\n",
       "      <th>0</th>\n",
       "      <td>893184</td>\n",
       "      <td>2006-01-01 02:00:00+00:00</td>\n",
       "      <td>Clear</td>\n",
       "      <td>Dark</td>\n",
       "      <td>Wet</td>\n",
       "      <td>8</td>\n",
       "      <td>33771082</td>\n",
       "      <td>4.2</td>\n",
       "      <td>ACCIDENT(acc_id='893184', date=Timestamp('2006...</td>\n",
       "    </tr>\n",
       "    <tr>\n",
       "      <th>1</th>\n",
       "      <td>909646</td>\n",
       "      <td>2006-01-01 03:00:00+00:00</td>\n",
       "      <td>Snow</td>\n",
       "      <td>Dark, artificial</td>\n",
       "      <td>Slush</td>\n",
       "      <td>5</td>\n",
       "      <td>158754118</td>\n",
       "      <td>2.4</td>\n",
       "      <td>ACCIDENT(acc_id='909646', date=Timestamp('2006...</td>\n",
       "    </tr>\n",
       "    <tr>\n",
       "      <th>2</th>\n",
       "      <td>884090</td>\n",
       "      <td>2006-01-02 07:00:00+00:00</td>\n",
       "      <td>Other</td>\n",
       "      <td>Dark, artificial</td>\n",
       "      <td>Wet</td>\n",
       "      <td>2</td>\n",
       "      <td>21631723</td>\n",
       "      <td>1.0</td>\n",
       "      <td>ACCIDENT(acc_id='884090', date=Timestamp('2006...</td>\n",
       "    </tr>\n",
       "    <tr>\n",
       "      <th>3</th>\n",
       "      <td>885782</td>\n",
       "      <td>2006-01-04 19:00:00+00:00</td>\n",
       "      <td>Rain</td>\n",
       "      <td>Dark</td>\n",
       "      <td>Wet</td>\n",
       "      <td>2</td>\n",
       "      <td>26007459</td>\n",
       "      <td>1.0</td>\n",
       "      <td>ACCIDENT(acc_id='885782', date=Timestamp('2006...</td>\n",
       "    </tr>\n",
       "    <tr>\n",
       "      <th>4</th>\n",
       "      <td>882079</td>\n",
       "      <td>2006-01-06 22:00:00+00:00</td>\n",
       "      <td>Clear</td>\n",
       "      <td>Dark, artificial</td>\n",
       "      <td>Dry</td>\n",
       "      <td>2</td>\n",
       "      <td>259750208</td>\n",
       "      <td>1.0</td>\n",
       "      <td>ACCIDENT(acc_id='882079', date=Timestamp('2006...</td>\n",
       "    </tr>\n",
       "    <tr>\n",
       "      <th>...</th>\n",
       "      <td>...</td>\n",
       "      <td>...</td>\n",
       "      <td>...</td>\n",
       "      <td>...</td>\n",
       "      <td>...</td>\n",
       "      <td>...</td>\n",
       "      <td>...</td>\n",
       "      <td>...</td>\n",
       "      <td>...</td>\n",
       "    </tr>\n",
       "    <tr>\n",
       "      <th>5685</th>\n",
       "      <td>9002468442</td>\n",
       "      <td>2019-12-23 06:00:00+00:00</td>\n",
       "      <td>Clear</td>\n",
       "      <td>Dawn</td>\n",
       "      <td>Wet</td>\n",
       "      <td>2</td>\n",
       "      <td>86186677</td>\n",
       "      <td>1.0</td>\n",
       "      <td>ACCIDENT(acc_id='9002468442', date=Timestamp('...</td>\n",
       "    </tr>\n",
       "    <tr>\n",
       "      <th>5686</th>\n",
       "      <td>9002471073</td>\n",
       "      <td>2019-12-23 14:00:00+00:00</td>\n",
       "      <td>Clear</td>\n",
       "      <td>Daylight</td>\n",
       "      <td>Dry</td>\n",
       "      <td>3</td>\n",
       "      <td>287946845</td>\n",
       "      <td>1.8</td>\n",
       "      <td>ACCIDENT(acc_id='9002471073', date=Timestamp('...</td>\n",
       "    </tr>\n",
       "    <tr>\n",
       "      <th>5687</th>\n",
       "      <td>9002481518</td>\n",
       "      <td>2019-12-25 08:00:00+00:00</td>\n",
       "      <td>Clear</td>\n",
       "      <td>Daylight</td>\n",
       "      <td>Wet</td>\n",
       "      <td>2</td>\n",
       "      <td>1498033</td>\n",
       "      <td>1.0</td>\n",
       "      <td>ACCIDENT(acc_id='9002481518', date=Timestamp('...</td>\n",
       "    </tr>\n",
       "    <tr>\n",
       "      <th>5688</th>\n",
       "      <td>9002496688</td>\n",
       "      <td>2019-12-27 23:00:00+00:00</td>\n",
       "      <td>Clear</td>\n",
       "      <td>Dark, artificial</td>\n",
       "      <td>Dry</td>\n",
       "      <td>2</td>\n",
       "      <td>392516842</td>\n",
       "      <td>1.0</td>\n",
       "      <td>ACCIDENT(acc_id='9002496688', date=Timestamp('...</td>\n",
       "    </tr>\n",
       "    <tr>\n",
       "      <th>5689</th>\n",
       "      <td>9002500260</td>\n",
       "      <td>2019-12-28 15:00:00+00:00</td>\n",
       "      <td>Clear</td>\n",
       "      <td>Daylight</td>\n",
       "      <td>Dry</td>\n",
       "      <td>3</td>\n",
       "      <td>29603262</td>\n",
       "      <td>1.2</td>\n",
       "      <td>ACCIDENT(acc_id='9002500260', date=Timestamp('...</td>\n",
       "    </tr>\n",
       "  </tbody>\n",
       "</table>\n",
       "<p>5690 rows × 9 columns</p>\n",
       "</div>"
      ],
      "text/plain": [
       "          ACCNUM  ...                                           ACCIDENT\n",
       "0         893184  ...  ACCIDENT(acc_id='893184', date=Timestamp('2006...\n",
       "1         909646  ...  ACCIDENT(acc_id='909646', date=Timestamp('2006...\n",
       "2         884090  ...  ACCIDENT(acc_id='884090', date=Timestamp('2006...\n",
       "3         885782  ...  ACCIDENT(acc_id='885782', date=Timestamp('2006...\n",
       "4         882079  ...  ACCIDENT(acc_id='882079', date=Timestamp('2006...\n",
       "...          ...  ...                                                ...\n",
       "5685  9002468442  ...  ACCIDENT(acc_id='9002468442', date=Timestamp('...\n",
       "5686  9002471073  ...  ACCIDENT(acc_id='9002471073', date=Timestamp('...\n",
       "5687  9002481518  ...  ACCIDENT(acc_id='9002481518', date=Timestamp('...\n",
       "5688  9002496688  ...  ACCIDENT(acc_id='9002496688', date=Timestamp('...\n",
       "5689  9002500260  ...  ACCIDENT(acc_id='9002500260', date=Timestamp('...\n",
       "\n",
       "[5690 rows x 9 columns]"
      ]
     },
     "execution_count": 25,
     "metadata": {
      "tags": []
     },
     "output_type": "execute_result"
    }
   ],
   "source": [
    "ksi_df"
   ]
  },
  {
   "cell_type": "markdown",
   "metadata": {
    "id": "zipY_xMjdFsh"
   },
   "source": [
    "Collapsing dataset to get list of accidents for each node:"
   ]
  },
  {
   "cell_type": "code",
   "execution_count": 26,
   "metadata": {
    "id": "zGzESGyQZnMk"
   },
   "outputs": [],
   "source": [
    "ksi_df = ksi_df.groupby('G_NODE')['ACCIDENT'].apply(list).reset_index(name='ACCIDENTS')"
   ]
  },
  {
   "cell_type": "code",
   "execution_count": 27,
   "metadata": {
    "colab": {
     "base_uri": "https://localhost:8080/",
     "height": 419
    },
    "id": "4AC4QBfBakc7",
    "outputId": "f5990805-81fc-4786-fc65-80eff9aef222"
   },
   "outputs": [
    {
     "data": {
      "text/html": [
       "<div>\n",
       "<style scoped>\n",
       "    .dataframe tbody tr th:only-of-type {\n",
       "        vertical-align: middle;\n",
       "    }\n",
       "\n",
       "    .dataframe tbody tr th {\n",
       "        vertical-align: top;\n",
       "    }\n",
       "\n",
       "    .dataframe thead th {\n",
       "        text-align: right;\n",
       "    }\n",
       "</style>\n",
       "<table border=\"1\" class=\"dataframe\">\n",
       "  <thead>\n",
       "    <tr style=\"text-align: right;\">\n",
       "      <th></th>\n",
       "      <th>G_NODE</th>\n",
       "      <th>ACCIDENTS</th>\n",
       "    </tr>\n",
       "  </thead>\n",
       "  <tbody>\n",
       "    <tr>\n",
       "      <th>0</th>\n",
       "      <td>1497983</td>\n",
       "      <td>[ACCIDENT(acc_id='7000804511', date=Timestamp(...</td>\n",
       "    </tr>\n",
       "    <tr>\n",
       "      <th>1</th>\n",
       "      <td>1498018</td>\n",
       "      <td>[ACCIDENT(acc_id='1126375', date=Timestamp('20...</td>\n",
       "    </tr>\n",
       "    <tr>\n",
       "      <th>2</th>\n",
       "      <td>1498033</td>\n",
       "      <td>[ACCIDENT(acc_id='1152152', date=Timestamp('20...</td>\n",
       "    </tr>\n",
       "    <tr>\n",
       "      <th>3</th>\n",
       "      <td>1498042</td>\n",
       "      <td>[ACCIDENT(acc_id='1298032', date=Timestamp('20...</td>\n",
       "    </tr>\n",
       "    <tr>\n",
       "      <th>4</th>\n",
       "      <td>1498116</td>\n",
       "      <td>[ACCIDENT(acc_id='7001054440', date=Timestamp(...</td>\n",
       "    </tr>\n",
       "    <tr>\n",
       "      <th>...</th>\n",
       "      <td>...</td>\n",
       "      <td>...</td>\n",
       "    </tr>\n",
       "    <tr>\n",
       "      <th>3704</th>\n",
       "      <td>7620170933</td>\n",
       "      <td>[ACCIDENT(acc_id='1025433', date=Timestamp('20...</td>\n",
       "    </tr>\n",
       "    <tr>\n",
       "      <th>3705</th>\n",
       "      <td>7870612785</td>\n",
       "      <td>[ACCIDENT(acc_id='7002059893', date=Timestamp(...</td>\n",
       "    </tr>\n",
       "    <tr>\n",
       "      <th>3706</th>\n",
       "      <td>7870612852</td>\n",
       "      <td>[ACCIDENT(acc_id='922700', date=Timestamp('200...</td>\n",
       "    </tr>\n",
       "    <tr>\n",
       "      <th>3707</th>\n",
       "      <td>7891518884</td>\n",
       "      <td>[ACCIDENT(acc_id='143084786', date=Timestamp('...</td>\n",
       "    </tr>\n",
       "    <tr>\n",
       "      <th>3708</th>\n",
       "      <td>8043199175</td>\n",
       "      <td>[ACCIDENT(acc_id='6002100980', date=Timestamp(...</td>\n",
       "    </tr>\n",
       "  </tbody>\n",
       "</table>\n",
       "<p>3709 rows × 2 columns</p>\n",
       "</div>"
      ],
      "text/plain": [
       "          G_NODE                                          ACCIDENTS\n",
       "0        1497983  [ACCIDENT(acc_id='7000804511', date=Timestamp(...\n",
       "1        1498018  [ACCIDENT(acc_id='1126375', date=Timestamp('20...\n",
       "2        1498033  [ACCIDENT(acc_id='1152152', date=Timestamp('20...\n",
       "3        1498042  [ACCIDENT(acc_id='1298032', date=Timestamp('20...\n",
       "4        1498116  [ACCIDENT(acc_id='7001054440', date=Timestamp(...\n",
       "...          ...                                                ...\n",
       "3704  7620170933  [ACCIDENT(acc_id='1025433', date=Timestamp('20...\n",
       "3705  7870612785  [ACCIDENT(acc_id='7002059893', date=Timestamp(...\n",
       "3706  7870612852  [ACCIDENT(acc_id='922700', date=Timestamp('200...\n",
       "3707  7891518884  [ACCIDENT(acc_id='143084786', date=Timestamp('...\n",
       "3708  8043199175  [ACCIDENT(acc_id='6002100980', date=Timestamp(...\n",
       "\n",
       "[3709 rows x 2 columns]"
      ]
     },
     "execution_count": 27,
     "metadata": {
      "tags": []
     },
     "output_type": "execute_result"
    }
   ],
   "source": [
    "ksi_df"
   ]
  },
  {
   "cell_type": "markdown",
   "metadata": {
    "id": "D9qTGMzQdLsN"
   },
   "source": [
    "Converting dataset to dict to set node attributes:"
   ]
  },
  {
   "cell_type": "code",
   "execution_count": 28,
   "metadata": {
    "id": "UvwTbNXGbbVX"
   },
   "outputs": [],
   "source": [
    "attr = ksi_df.set_index('G_NODE')['ACCIDENTS'].to_dict()"
   ]
  },
  {
   "cell_type": "code",
   "execution_count": 29,
   "metadata": {
    "id": "9MwUwxLSTuCL"
   },
   "outputs": [],
   "source": [
    "nx.set_node_attributes(G, [], \"accident_list\")\n",
    "nx.set_node_attributes(G, attr, \"accident_list\")"
   ]
  },
  {
   "cell_type": "markdown",
   "metadata": {
    "id": "WOpmgeJSd2lI"
   },
   "source": [
    "Example Nodes:"
   ]
  },
  {
   "cell_type": "code",
   "execution_count": 30,
   "metadata": {
    "colab": {
     "base_uri": "https://localhost:8080/"
    },
    "id": "RgjrVChKVyGL",
    "outputId": "84d4abf0-307d-431a-fe95-26c32635b58a"
   },
   "outputs": [
    {
     "data": {
      "text/plain": [
       "{'accident_list': [],\n",
       " 'highway': 'motorway_junction',\n",
       " 'osmid': 1497793,\n",
       " 'ref': '14',\n",
       " 'x': -79.3346901,\n",
       " 'y': 43.7555309}"
      ]
     },
     "execution_count": 30,
     "metadata": {
      "tags": []
     },
     "output_type": "execute_result"
    }
   ],
   "source": [
    "G.nodes[1497793]"
   ]
  },
  {
   "cell_type": "code",
   "execution_count": 31,
   "metadata": {
    "colab": {
     "base_uri": "https://localhost:8080/"
    },
    "id": "YPaDipvDdxWy",
    "outputId": "8f1838c6-513d-4145-9a84-6ead8e9d1cc2"
   },
   "outputs": [
    {
     "data": {
      "text/plain": [
       "{'accident_list': [ACCIDENT(acc_id='909646', date=Timestamp('2006-01-01 03:00:00+0000', tz='UTC'), visibility='Snow', light='Dark, artificial', road_conditions='Slush', fatalities=5, inj_index=2.4000000000000004)],\n",
       " 'osmid': 158754118,\n",
       " 'x': -79.3162254,\n",
       " 'y': 43.6849494}"
      ]
     },
     "execution_count": 31,
     "metadata": {
      "tags": []
     },
     "output_type": "execute_result"
    }
   ],
   "source": [
    "G.nodes[158754118]"
   ]
  },
  {
   "cell_type": "code",
   "execution_count": 31,
   "metadata": {
    "id": "Z6JX09wxnYjF"
   },
   "outputs": [],
   "source": []
  }
 ],
 "metadata": {
  "colab": {
   "collapsed_sections": [],
   "name": "Project-Notebook.ipynb",
   "provenance": [],
   "toc_visible": true
  },
  "kernelspec": {
   "display_name": "Python 3",
   "language": "python",
   "name": "python3"
  },
  "language_info": {
   "codemirror_mode": {
    "name": "ipython",
    "version": 3
   },
   "file_extension": ".py",
   "mimetype": "text/x-python",
   "name": "python",
   "nbconvert_exporter": "python",
   "pygments_lexer": "ipython3",
   "version": "3.6.9"
  }
 },
 "nbformat": 4,
 "nbformat_minor": 2
}
